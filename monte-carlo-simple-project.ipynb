{
 "cells": [
  {
   "cell_type": "code",
   "execution_count": null,
   "id": "783b1f68-6bb9-4bc2-936e-76886c5e8653",
   "metadata": {},
   "outputs": [],
   "source": [
    "import numpy as np\n",
    "\n",
    "S0  = 100\n",
    "K  = 105\n",
    "T = 1\n",
    "r = 0.05\n",
    "sigma = 0.2\n",
    "N = 100000000\n",
    "\n",
    "Z = np.random.standard_normal(N)\n",
    "\n",
    "ST = S0 * np.exp((r - 0.5*sigma**2) * T + sigma * np.sqrt(T) * Z )\n",
    "\n",
    "payoffs = np.maximum(ST - K,0)\n",
    "\n",
    "option_price = np.exp(-r * T) * np.mean(payoffs)\n",
    "\n",
    "print(round(option_price,2))    \n",
    "\n"
   ]
  }
 ],
 "metadata": {
  "kernelspec": {
   "display_name": "Python 3 (ipykernel)",
   "language": "python",
   "name": "python3"
  },
  "language_info": {
   "codemirror_mode": {
    "name": "ipython",
    "version": 3
   },
   "file_extension": ".py",
   "mimetype": "text/x-python",
   "name": "python",
   "nbconvert_exporter": "python",
   "pygments_lexer": "ipython3",
   "version": "3.8.1"
  }
 },
 "nbformat": 4,
 "nbformat_minor": 5
}
